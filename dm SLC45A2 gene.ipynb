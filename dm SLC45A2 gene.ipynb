{
 "cells": [
  {
   "cell_type": "raw",
   "id": "14c3a7dc-b55e-4492-89e3-06563e9316bb",
   "metadata": {
    "jupyter": {
     "source_hidden": true
    },
    "tags": []
   },
   "source": [
    "from Bio import Entrez\n",
    "Entrez.email = \"vsicilias@localhost.localdomain\" #Mandatory! Can be replaced with your personal email.\n",
    "\n",
    "#creating handle\n",
    "handle = Entrez.einfo() #invoking Bio.Entrez.einfo()\n",
    "print(handle.read())\n",
    "handle.close() #always close your handle after you finish"
   ]
  },
  {
   "cell_type": "code",
   "execution_count": 1,
   "id": "e05459ca-f941-406b-bf17-7c810da56495",
   "metadata": {},
   "outputs": [
    {
     "name": "stdout",
     "output_type": "stream",
     "text": [
      "b'<?xml version=\"1.0\" encoding=\"UTF-8\" ?>\\n<!DOCTYPE eInfoResult PUBLIC \"-//NLM//DTD einfo 20190110//EN\" \"https://eutils.ncbi.nlm.nih.gov/eutils/dtd/20190110/einfo.dtd\">\\n<eInfoResult>\\n<DbList>\\n\\n\\t<DbName>pubmed</DbName>\\n\\t<DbName>protein</DbName>\\n\\t<DbName>nuccore</DbName>\\n\\t<DbName>ipg</DbName>\\n\\t<DbName>nucleotide</DbName>\\n\\t<DbName>structure</DbName>\\n\\t<DbName>genome</DbName>\\n\\t<DbName>annotinfo</DbName>\\n\\t<DbName>assembly</DbName>\\n\\t<DbName>bioproject</DbName>\\n\\t<DbName>biosample</DbName>\\n\\t<DbName>blastdbinfo</DbName>\\n\\t<DbName>books</DbName>\\n\\t<DbName>cdd</DbName>\\n\\t<DbName>clinvar</DbName>\\n\\t<DbName>gap</DbName>\\n\\t<DbName>gapplus</DbName>\\n\\t<DbName>grasp</DbName>\\n\\t<DbName>dbvar</DbName>\\n\\t<DbName>gene</DbName>\\n\\t<DbName>gds</DbName>\\n\\t<DbName>geoprofiles</DbName>\\n\\t<DbName>homologene</DbName>\\n\\t<DbName>medgen</DbName>\\n\\t<DbName>mesh</DbName>\\n\\t<DbName>ncbisearch</DbName>\\n\\t<DbName>nlmcatalog</DbName>\\n\\t<DbName>omim</DbName>\\n\\t<DbName>orgtrack</DbName>\\n\\t<DbName>pmc</DbName>\\n\\t<DbName>popset</DbName>\\n\\t<DbName>proteinclusters</DbName>\\n\\t<DbName>pcassay</DbName>\\n\\t<DbName>protfam</DbName>\\n\\t<DbName>biosystems</DbName>\\n\\t<DbName>pccompound</DbName>\\n\\t<DbName>pcsubstance</DbName>\\n\\t<DbName>seqannot</DbName>\\n\\t<DbName>snp</DbName>\\n\\t<DbName>sra</DbName>\\n\\t<DbName>taxonomy</DbName>\\n\\t<DbName>biocollections</DbName>\\n\\t<DbName>gtr</DbName>\\n</DbList>\\n\\n</eInfoResult>\\n'\n"
     ]
    }
   ],
   "source": [
    "from Bio import Entrez\n",
    "Entrez.email = \"vsicilias@localhost.localdomain\" #Mandatory! Can be replaced with your personal email.\n",
    "\n",
    "#creating handle\n",
    "handle = Entrez.einfo() #invoking Bio.Entrez.einfo()\n",
    "print(handle.read())\n",
    "handle.close()"
   ]
  },
  {
   "cell_type": "code",
   "execution_count": null,
   "id": "10e77f54-88c3-4298-8796-8e4d9c687142",
   "metadata": {},
   "outputs": [],
   "source": []
  },
  {
   "cell_type": "code",
   "execution_count": 4,
   "id": "c4c792f3-bf64-47b5-a06f-98c697e8a8ef",
   "metadata": {},
   "outputs": [
    {
     "name": "stdout",
     "output_type": "stream",
     "text": [
      "{'Count': '76498', 'RetMax': '20', 'RetStart': '0', 'IdList': ['2199429182', '2199429180', '2199429178', '2199429176', '2199429174', '2199429172', '2199429170', '2199429168', '2199429166', '2199429164', '2199429162', '2199429160', '2199429158', '2189541966', '595582254', '2180425933', '2162525745', '2169890639', '2169548371', '2168852620'], 'TranslationSet': [{'From': 'Panthera tigris', 'To': '\"Panthera tigris\"[Organism] OR Panthera tigris[All Fields]'}], 'TranslationStack': [{'Term': '\"Panthera tigris\"[Organism]', 'Field': 'Organism', 'Count': '74226', 'Explode': 'Y'}, {'Term': 'Panthera tigris[All Fields]', 'Field': 'All Fields', 'Count': '76498', 'Explode': 'N'}, 'OR', 'GROUP'], 'QueryTranslation': '\"Panthera tigris\"[Organism] OR Panthera tigris[All Fields]'}\n"
     ]
    }
   ],
   "source": [
    "from Bio import Entrez\n",
    "Entrez.email = \"vsicilias@localhost.localdomain\"\n",
    "\n",
    "handle = Entrez.esearch(db=\"nuccore\", term=\"Panthera tigris\")\n",
    "record = Entrez.read(handle)\n",
    "print(record)\n",
    "handle.close()"
   ]
  },
  {
   "cell_type": "code",
   "execution_count": null,
   "id": "91d9dcd2-bbad-4112-bec8-1c5f27c1407e",
   "metadata": {},
   "outputs": [],
   "source": []
  },
  {
   "cell_type": "code",
   "execution_count": 5,
   "id": "e62ac248-909c-4264-a204-1542b3784c26",
   "metadata": {},
   "outputs": [
    {
     "name": "stdout",
     "output_type": "stream",
     "text": [
      "{'Count': '2', 'RetMax': '2', 'RetStart': '0', 'IdList': ['2080275006', '2076504809'], 'TranslationSet': [{'From': 'Panthera tigris', 'To': '\"Panthera tigris\"[Organism] OR Panthera tigris[All Fields]'}], 'TranslationStack': [{'Term': '\"Panthera tigris\"[Organism]', 'Field': 'Organism', 'Count': '74226', 'Explode': 'Y'}, {'Term': 'Panthera tigris[All Fields]', 'Field': 'All Fields', 'Count': '76498', 'Explode': 'N'}, 'OR', 'GROUP', {'Term': 'SLC45A2[All Fields]', 'Field': 'All Fields', 'Count': '3174', 'Explode': 'N'}, 'AND', 'GROUP'], 'QueryTranslation': '(\"Panthera tigris\"[Organism] OR Panthera tigris[All Fields]) AND SLC45A2[All Fields]'}\n"
     ]
    }
   ],
   "source": [
    "from Bio import Entrez\n",
    "Entrez.email = \"vsicilias@localhost.localdomain\" \n",
    "\n",
    "#creating handle\n",
    "handle = Entrez.esearch(db=\"nuccore\", term=\"Panthera tigris SLC45A2\")\n",
    "record = Entrez.read(handle)\n",
    "print(record)\n",
    "handle.close()"
   ]
  },
  {
   "cell_type": "code",
   "execution_count": null,
   "id": "1977fe59-98f7-479e-9017-257e96b287fa",
   "metadata": {},
   "outputs": [],
   "source": []
  },
  {
   "cell_type": "code",
   "execution_count": 6,
   "id": "703a7481-0b67-418e-86ce-98c5cc1f52c6",
   "metadata": {},
   "outputs": [
    {
     "name": "stdout",
     "output_type": "stream",
     "text": [
      "LOCUS       XM_042960546            2421 bp    mRNA    linear   MAM 19-AUG-2021\n",
      "DEFINITION  PREDICTED: Panthera tigris solute carrier family 45 member 2\n",
      "            (SLC45A2), mRNA.\n",
      "ACCESSION   XM_042960546\n",
      "VERSION     XM_042960546.1\n",
      "DBLINK      BioProject: PRJNA751894\n",
      "KEYWORDS    RefSeq.\n",
      "SOURCE      Panthera tigris (tiger)\n",
      "  ORGANISM  Panthera tigris\n",
      "            Eukaryota; Metazoa; Chordata; Craniata; Vertebrata; Euteleostomi;\n",
      "            Mammalia; Eutheria; Laurasiatheria; Carnivora; Feliformia; Felidae;\n",
      "            Pantherinae; Panthera.\n",
      "COMMENT     MODEL REFSEQ:  This record is predicted by automated computational\n",
      "            analysis. This record is derived from a genomic sequence\n",
      "            (NC_056660.1) annotated using gene prediction method: Gnomon.\n",
      "            Also see:\n",
      "                Documentation of NCBI's Annotation Process\n",
      "            \n",
      "            ##Genome-Annotation-Data-START##\n",
      "            Annotation Provider         :: NCBI\n",
      "            Annotation Status           :: Full annotation\n",
      "            Annotation Name             :: Panthera tigris Annotation Release\n",
      "                                           102\n",
      "            Annotation Version          :: 102\n",
      "            Annotation Pipeline         :: NCBI eukaryotic genome annotation\n",
      "                                           pipeline\n",
      "            Annotation Software Version :: 9.0\n",
      "            Annotation Method           :: Best-placed RefSeq; Gnomon\n",
      "            Features Annotated          :: Gene; mRNA; CDS; ncRNA\n",
      "            ##Genome-Annotation-Data-END##\n",
      "FEATURES             Location/Qualifiers\n",
      "     source          1..2421\n",
      "                     /organism=\"Panthera tigris\"\n",
      "                     /mol_type=\"mRNA\"\n",
      "                     /isolate=\"Pti1\"\n",
      "                     /db_xref=\"taxon:9694\"\n",
      "                     /chromosome=\"A1\"\n",
      "                     /sex=\"female\"\n",
      "                     /cell_type=\"Fibroblast\"\n",
      "                     /tissue_type=\"Fibroblasts\"\n",
      "                     /dev_stage=\"adult\"\n",
      "     gene            1..2421\n",
      "                     /gene=\"SLC45A2\"\n",
      "                     /note=\"Derived by automated computational analysis using\n",
      "                     gene prediction method: Gnomon. Supporting evidence\n",
      "                     includes similarity to: 5 Proteins, and 78% coverage of\n",
      "                     the annotated genomic feature by RNAseq alignments\"\n",
      "                     /db_xref=\"GeneID:102958905\"\n",
      "     CDS             1..1593\n",
      "                     /gene=\"SLC45A2\"\n",
      "                     /codon_start=1\n",
      "                     /product=\"membrane-associated transporter protein\"\n",
      "                     /protein_id=\"XP_042816480.1\"\n",
      "                     /db_xref=\"GeneID:102958905\"\n",
      "                     /translation=\"MGGNIGQLGSRTYESLADDEPLDPEEPPKRPTGNLIMHSMAMLG\n",
      "                     REFCYAVEAAYVTPVLLSVGLPKSLYSMVWLLSPILGFLLQPVVGSASDHCRARWGRR\n",
      "                     RPYILILVIMMLLGMTLYLNGDAVVTALIADPKRRLIWAITITMIGVVLFDFAADFID\n",
      "                     GPIKAYLFDVCSHEDKERGLHYHALFTGFGGTLGYLLGAIDWAHLELGRVLGTEFQVM\n",
      "                     FFFSALVLTLCFTIHLCSIPEAPLKDVIKDISPQQAPQDFPLSPDKMYQYGSIEKAKN\n",
      "                     GYVNPELAMHGEKPPNPAEQTRKAMTMKSLLRELVNMPPHYRCLCISHLFGWTAFLSN\n",
      "                     MLFFTDFMGQIVYHGDPYAAHNSTEFLIYERGVEVGCWGLCINSMFSSLYSYFQKSLV\n",
      "                     SYIGLKGLYFMGYLLFGLGTGFIGLFPNVYSTLALCTSFGVMSSTLYTVPFNLIAKYH\n",
      "                     REEQEEKRQQAPGGSLHGSERGQGLDCVVLTCMVQLAQILVGGGLGFLVNKAGSVIVV\n",
      "                     ITASVVAMIGCCFVALFVRYVD\"\n",
      "ORIGIN      \n",
      "        1 atgggcggca acatcgggca gcttggcagt cgcacctacg agtccctagc tgacgatgag\n",
      "       61 cccttggacc ctgaggagcc ccccaaaaga cccaccggca atctcatcat gcacagcatg\n",
      "      121 gccatgcttg gccgggagtt ttgctacgca gtggaggcgg cctacgtgac cccagtcctg\n",
      "      181 ctcagcgtgg ggctgcccaa gagtctgtac agcatggtgt ggctcctcag ccccatcctg\n",
      "      241 ggatttctgc tgcaacccgt ggtgggatca gccagcgacc actgccgggc caggtggggc\n",
      "      301 cggcgaagac catacatcct catcctggtc atcatgatgc tcttgggcat gactctgtac\n",
      "      361 ctcaacgggg acgctgtggt aacagctttg attgctgatc caaagaggag gctgatttgg\n",
      "      421 gccataacca tcaccatgat aggtgtagtt ctctttgatt ttgctgctga cttcattgat\n",
      "      481 gggcccatta aagcctactt atttgatgtc tgttcccatg aggataagga gaggggcctc\n",
      "      541 cactaccatg ccctcttcac gggttttgga ggtacgctgg gttacctttt gggtgccatc\n",
      "      601 gactgggccc atctggagct aggaagagtg ctgggcacag aattccaggt catgttcttc\n",
      "      661 ttctccgcct tggtgctcac tttgtgtttt actattcatc tctgcagtat ccctgaagcc\n",
      "      721 ccacttaaag atgttataaa ggacatttcc ccacagcaag ccccccagga ctttccattg\n",
      "      781 tcaccagaca aaatgtacca gtatgggtct attgagaaag ctaaaaatgg ttatgtaaac\n",
      "      841 ccggagctgg caatgcatgg ggaaaaaccc ccaaatcctg ctgaacagac taggaaggca\n",
      "      901 atgaccatga aatcactgct gagggagctg gtgaatatgc ctccccacta ccgctgtctt\n",
      "      961 tgcatcagcc acctctttgg atggactgcc ttcctgtcta acatgctctt cttcacggat\n",
      "     1021 ttcatgggcc agattgtgta ccatggggat ccctatgctg cacacaactc cacagagttt\n",
      "     1081 ctcatctacg aaagaggggt cgaggttgga tgttggggct tgtgcatcaa ttccatgttc\n",
      "     1141 tcctcacttt attcttactt tcagaaatct ttggtatcct acattggatt aaagggtctt\n",
      "     1201 tacttcatgg ggtatttgct atttggcctg gggacaggat ttattggact tttcccgaat\n",
      "     1261 gtctactcca ccctggctct gtgtacctcg tttggtgtga tgtccagcac tctgtacact\n",
      "     1321 gtgcccttta acctcattgc caagtaccac cgcgaggagc aagaagagaa gagacagcag\n",
      "     1381 gccccgggag ggagtctgca tggcagtgag agagggcagg gcctggactg cgtggtcctc\n",
      "     1441 acctgcatgg tgcagctggc tcagatcctg gttggaggtg gcctgggctt cctggtcaac\n",
      "     1501 aaggctggga gcgtcattgt ggtaatcaca gcctctgtgg tggccatgat cggctgctgt\n",
      "     1561 tttgtggctc tcttcgtaag atatgtggat taggtcaata gggagacatc atccctaacc\n",
      "     1621 tccaacacag tgaagggcat ggtaggaaat cagtctgtcc tctggctctg cagctttggg\n",
      "     1681 gtctgcccat tggctgccct gcgttatgac ttctgctaca gtgatctgcc tgcacctcac\n",
      "     1741 tttctgccaa acctctgcac agcagtttcc ttattttagg catcatctat ctcgggaaag\n",
      "     1801 actgggctct gcctccattc accggtggca aaggttaatt gtgggagatg gcgcctctat\n",
      "     1861 gcgccttcct actgcatctc aggacattcc aggccttgac aaaacgccag aagccgacta\n",
      "     1921 gttttacaca ggacaatggt gtttattcta tcatgtgttg tttttttctt aaccagaggt\n",
      "     1981 ctatatttaa tcagagggtc atacttttca ttatttcacc aatactcaaa atattgctga\n",
      "     2041 tgatttatga tattagctta ctcatattta attcatactt catttactca tacagacagt\n",
      "     2101 ccctggctta caatacaatg gttcaaatta caattcttct tcctcttctc cttctccttc\n",
      "     2161 tccttcatct tcttttactt aacgatagtt ggaaagcagt gcacattcag tagaaagcat\n",
      "     2221 acctcagatt gtgaattttg atcttttctg ggtgatacat gcccttgtga tgctgggcag\n",
      "     2281 cggcagccac agctcccagt cagtctcacc atcccgaagg tgaacaactg gtccactgac\n",
      "     2341 caccattctg tccccataca gctccactgg ttttgttttt ggtttccatt ttcagtatgg\n",
      "     2401 tattcagtaa attacatgag a\n",
      "//\n",
      "\n",
      "\n"
     ]
    }
   ],
   "source": [
    "efetch_handle = Entrez.efetch(db=\"nuccore\", id=\"2080275006\", rettype=\"gb\", retmode=\"text\")\n",
    "gbrecord = efetch_handle.read()\n",
    "print(gbrecord)"
   ]
  },
  {
   "cell_type": "code",
   "execution_count": 7,
   "id": "100906e9-94f6-472c-b8fa-7feab1c3441c",
   "metadata": {},
   "outputs": [
    {
     "name": "stdout",
     "output_type": "stream",
     "text": [
      ">XM_042960546.1 PREDICTED: Panthera tigris solute carrier family 45 member 2 (SLC45A2), mRNA\n",
      "ATGGGCGGCAACATCGGGCAGCTTGGCAGTCGCACCTACGAGTCCCTAGCTGACGATGAGCCCTTGGACC\n",
      "CTGAGGAGCCCCCCAAAAGACCCACCGGCAATCTCATCATGCACAGCATGGCCATGCTTGGCCGGGAGTT\n",
      "TTGCTACGCAGTGGAGGCGGCCTACGTGACCCCAGTCCTGCTCAGCGTGGGGCTGCCCAAGAGTCTGTAC\n",
      "AGCATGGTGTGGCTCCTCAGCCCCATCCTGGGATTTCTGCTGCAACCCGTGGTGGGATCAGCCAGCGACC\n",
      "ACTGCCGGGCCAGGTGGGGCCGGCGAAGACCATACATCCTCATCCTGGTCATCATGATGCTCTTGGGCAT\n",
      "GACTCTGTACCTCAACGGGGACGCTGTGGTAACAGCTTTGATTGCTGATCCAAAGAGGAGGCTGATTTGG\n",
      "GCCATAACCATCACCATGATAGGTGTAGTTCTCTTTGATTTTGCTGCTGACTTCATTGATGGGCCCATTA\n",
      "AAGCCTACTTATTTGATGTCTGTTCCCATGAGGATAAGGAGAGGGGCCTCCACTACCATGCCCTCTTCAC\n",
      "GGGTTTTGGAGGTACGCTGGGTTACCTTTTGGGTGCCATCGACTGGGCCCATCTGGAGCTAGGAAGAGTG\n",
      "CTGGGCACAGAATTCCAGGTCATGTTCTTCTTCTCCGCCTTGGTGCTCACTTTGTGTTTTACTATTCATC\n",
      "TCTGCAGTATCCCTGAAGCCCCACTTAAAGATGTTATAAAGGACATTTCCCCACAGCAAGCCCCCCAGGA\n",
      "CTTTCCATTGTCACCAGACAAAATGTACCAGTATGGGTCTATTGAGAAAGCTAAAAATGGTTATGTAAAC\n",
      "CCGGAGCTGGCAATGCATGGGGAAAAACCCCCAAATCCTGCTGAACAGACTAGGAAGGCAATGACCATGA\n",
      "AATCACTGCTGAGGGAGCTGGTGAATATGCCTCCCCACTACCGCTGTCTTTGCATCAGCCACCTCTTTGG\n",
      "ATGGACTGCCTTCCTGTCTAACATGCTCTTCTTCACGGATTTCATGGGCCAGATTGTGTACCATGGGGAT\n",
      "CCCTATGCTGCACACAACTCCACAGAGTTTCTCATCTACGAAAGAGGGGTCGAGGTTGGATGTTGGGGCT\n",
      "TGTGCATCAATTCCATGTTCTCCTCACTTTATTCTTACTTTCAGAAATCTTTGGTATCCTACATTGGATT\n",
      "AAAGGGTCTTTACTTCATGGGGTATTTGCTATTTGGCCTGGGGACAGGATTTATTGGACTTTTCCCGAAT\n",
      "GTCTACTCCACCCTGGCTCTGTGTACCTCGTTTGGTGTGATGTCCAGCACTCTGTACACTGTGCCCTTTA\n",
      "ACCTCATTGCCAAGTACCACCGCGAGGAGCAAGAAGAGAAGAGACAGCAGGCCCCGGGAGGGAGTCTGCA\n",
      "TGGCAGTGAGAGAGGGCAGGGCCTGGACTGCGTGGTCCTCACCTGCATGGTGCAGCTGGCTCAGATCCTG\n",
      "GTTGGAGGTGGCCTGGGCTTCCTGGTCAACAAGGCTGGGAGCGTCATTGTGGTAATCACAGCCTCTGTGG\n",
      "TGGCCATGATCGGCTGCTGTTTTGTGGCTCTCTTCGTAAGATATGTGGATTAGGTCAATAGGGAGACATC\n",
      "ATCCCTAACCTCCAACACAGTGAAGGGCATGGTAGGAAATCAGTCTGTCCTCTGGCTCTGCAGCTTTGGG\n",
      "GTCTGCCCATTGGCTGCCCTGCGTTATGACTTCTGCTACAGTGATCTGCCTGCACCTCACTTTCTGCCAA\n",
      "ACCTCTGCACAGCAGTTTCCTTATTTTAGGCATCATCTATCTCGGGAAAGACTGGGCTCTGCCTCCATTC\n",
      "ACCGGTGGCAAAGGTTAATTGTGGGAGATGGCGCCTCTATGCGCCTTCCTACTGCATCTCAGGACATTCC\n",
      "AGGCCTTGACAAAACGCCAGAAGCCGACTAGTTTTACACAGGACAATGGTGTTTATTCTATCATGTGTTG\n",
      "TTTTTTTCTTAACCAGAGGTCTATATTTAATCAGAGGGTCATACTTTTCATTATTTCACCAATACTCAAA\n",
      "ATATTGCTGATGATTTATGATATTAGCTTACTCATATTTAATTCATACTTCATTTACTCATACAGACAGT\n",
      "CCCTGGCTTACAATACAATGGTTCAAATTACAATTCTTCTTCCTCTTCTCCTTCTCCTTCTCCTTCATCT\n",
      "TCTTTTACTTAACGATAGTTGGAAAGCAGTGCACATTCAGTAGAAAGCATACCTCAGATTGTGAATTTTG\n",
      "ATCTTTTCTGGGTGATACATGCCCTTGTGATGCTGGGCAGCGGCAGCCACAGCTCCCAGTCAGTCTCACC\n",
      "ATCCCGAAGGTGAACAACTGGTCCACTGACCACCATTCTGTCCCCATACAGCTCCACTGGTTTTGTTTTT\n",
      "GGTTTCCATTTTCAGTATGGTATTCAGTAAATTACATGAGA\n",
      "\n",
      "\n"
     ]
    }
   ],
   "source": [
    "efetch_handle = Entrez.efetch(db=\"nuccore\", id=\"2080275006\", rettype=\"fasta\", retmode=\"text\")\n",
    "gbrecord = efetch_handle.read()\n",
    "print(gbrecord)"
   ]
  },
  {
   "cell_type": "code",
   "execution_count": 8,
   "id": "c63d59be-11cf-4f06-a61e-efe46f515141",
   "metadata": {},
   "outputs": [
    {
     "name": "stdout",
     "output_type": "stream",
     "text": [
      "FASTA Download\n"
     ]
    }
   ],
   "source": [
    "import os\n",
    "#creating EFetch handle\n",
    "filename = \"SLC45A2gene.fasta\"\n",
    "\n",
    "#creating EFetch handle\n",
    "if not os.path.isfile(filename):\n",
    "    # Downloading file...\n",
    "    efetch_handle = Entrez.efetch(db=\"nuccore\", id=\"2080275006\", rettype=\"fasta\", retmode=\"text\")\n",
    "    output_file_handle = open(filename, \"w\")\n",
    "    output_file_handle.write(efetch_handle.read())\n",
    "    output_file_handle.close()\n",
    "    efetch_handle.close()\n",
    "    print(\"FASTA Download\")"
   ]
  },
  {
   "cell_type": "code",
   "execution_count": 9,
   "id": "f21f3eee-566e-4022-9d72-59479420b433",
   "metadata": {},
   "outputs": [
    {
     "name": "stdout",
     "output_type": "stream",
     "text": [
      "GB Download\n"
     ]
    }
   ],
   "source": [
    "#creating EFetch handle\n",
    "filename = \"Panthera tigris SLC45A2 gene.gbk\"\n",
    "\n",
    "#creating EFetch handle\n",
    "if not os.path.isfile(filename):\n",
    "    # Downloading file...\n",
    "    efetch_handle = Entrez.efetch(db=\"nuccore\", id=\"2080275006\", rettype=\"gb\", retmode=\"text\")\n",
    "    output_file_handle = open(filename, \"w\")\n",
    "    output_file_handle.write(efetch_handle.read())\n",
    "    output_file_handle.close()\n",
    "    efetch_handle.close()\n",
    "    print (\"GB Download\")"
   ]
  },
  {
   "cell_type": "code",
   "execution_count": 14,
   "id": "26149fba-e2da-4b4b-ba54-9773603d4d85",
   "metadata": {},
   "outputs": [
    {
     "name": "stdout",
     "output_type": "stream",
     "text": [
      ">SLC45A2|PREDICTED: Panthera tigris solute carrier family 45 member 2 (SLC45A2), mRNA\n",
      "ATGGGCGGCAACATCGGGCAGCTTGGCAGTCGCACCTACGAGTCCCTAGCTGACGATGAGCCCTTGGACCCTGAGGAGCCCCCCAAAAGACCCACCGGCAATCTCATCATGCACAGCATGGCCATGCTTGGCCGGGAGTTTTGCTACGCAGTGGAGGCGGCCTACGTGACCCCAGTCCTGCTCAGCGTGGGGCTGCCCAAGAGTCTGTACAGCATGGTGTGGCTCCTCAGCCCCATCCTGGGATTTCTGCTGCAACCCGTGGTGGGATCAGCCAGCGACCACTGCCGGGCCAGGTGGGGCCGGCGAAGACCATACATCCTCATCCTGGTCATCATGATGCTCTTGGGCATGACTCTGTACCTCAACGGGGACGCTGTGGTAACAGCTTTGATTGCTGATCCAAAGAGGAGGCTGATTTGGGCCATAACCATCACCATGATAGGTGTAGTTCTCTTTGATTTTGCTGCTGACTTCATTGATGGGCCCATTAAAGCCTACTTATTTGATGTCTGTTCCCATGAGGATAAGGAGAGGGGCCTCCACTACCATGCCCTCTTCACGGGTTTTGGAGGTACGCTGGGTTACCTTTTGGGTGCCATCGACTGGGCCCATCTGGAGCTAGGAAGAGTGCTGGGCACAGAATTCCAGGTCATGTTCTTCTTCTCCGCCTTGGTGCTCACTTTGTGTTTTACTATTCATCTCTGCAGTATCCCTGAAGCCCCACTTAAAGATGTTATAAAGGACATTTCCCCACAGCAAGCCCCCCAGGACTTTCCATTGTCACCAGACAAAATGTACCAGTATGGGTCTATTGAGAAAGCTAAAAATGGTTATGTAAACCCGGAGCTGGCAATGCATGGGGAAAAACCCCCAAATCCTGCTGAACAGACTAGGAAGGCAATGACCATGAAATCACTGCTGAGGGAGCTGGTGAATATGCCTCCCCACTACCGCTGTCTTTGCATCAGCCACCTCTTTGGATGGACTGCCTTCCTGTCTAACATGCTCTTCTTCACGGATTTCATGGGCCAGATTGTGTACCATGGGGATCCCTATGCTGCACACAACTCCACAGAGTTTCTCATCTACGAAAGAGGGGTCGAGGTTGGATGTTGGGGCTTGTGCATCAATTCCATGTTCTCCTCACTTTATTCTTACTTTCAGAAATCTTTGGTATCCTACATTGGATTAAAGGGTCTTTACTTCATGGGGTATTTGCTATTTGGCCTGGGGACAGGATTTATTGGACTTTTCCCGAATGTCTACTCCACCCTGGCTCTGTGTACCTCGTTTGGTGTGATGTCCAGCACTCTGTACACTGTGCCCTTTAACCTCATTGCCAAGTACCACCGCGAGGAGCAAGAAGAGAAGAGACAGCAGGCCCCGGGAGGGAGTCTGCATGGCAGTGAGAGAGGGCAGGGCCTGGACTGCGTGGTCCTCACCTGCATGGTGCAGCTGGCTCAGATCCTGGTTGGAGGTGGCCTGGGCTTCCTGGTCAACAAGGCTGGGAGCGTCATTGTGGTAATCACAGCCTCTGTGGTGGCCATGATCGGCTGCTGTTTTGTGGCTCTCTTCGTAAGATATGTGGATTAG\n"
     ]
    }
   ],
   "source": [
    "from Bio import SeqIO\n",
    "\n",
    "GoI = \"SLC45A2\"\n",
    "\n",
    "for genome in SeqIO.parse(\"Panthera tigris SLC45A2 gene.gbk\",\"genbank\"):\n",
    "    for gene in genome.features:\n",
    "        if gene.type != \"CDS\":\n",
    "            continue\n",
    "        if \"gene\" not in gene.qualifiers:\n",
    "            continue\n",
    "        if GoI not in gene.qualifiers[\"gene\"][0]: \n",
    "            continue\n",
    "        gene_seq = gene.extract(genome.seq)\n",
    "\n",
    "GoI_fasta = \">%s|%s\\n%s\" % (GoI, genome.description, gene_seq)\n",
    "print(GoI_fasta)"
   ]
  },
  {
   "cell_type": "code",
   "execution_count": 22,
   "id": "61b324ee-f5f2-48bc-9517-8b866e266aa1",
   "metadata": {},
   "outputs": [],
   "source": [
    "from Bio import SeqIO\n",
    "\n",
    "GoI = \"SLC45A2\"\n",
    "\n",
    "for genome in SeqIO.parse(\"Panthera tigris SLC45A2 gene.gbk\",\"genbank\"):\n",
    "    for gene in genome.features:\n",
    "        if gene.type != \"CDS\":\n",
    "            continue\n",
    "        if \"gene\" not in gene.qualifiers:\n",
    "            continue\n",
    "        if GoI not in gene.qualifiers[\"gene\"][0]: \n",
    "            continue\n",
    "        gene_seq = gene.extract(genome.seq)\n",
    "\n",
    "GoI_fasta = \">%s|%s\\n%s\" % (GoI, genome.description, gene_seq)\n",
    "with open(\"GoI SLC45A2_fasta.fasta\",\"w\") as f:\n",
    "    f.write(GoI_fasta)"
   ]
  },
  {
   "cell_type": "code",
   "execution_count": null,
   "id": "ef3c7286-4ed1-484e-8529-29d6b5d1cd33",
   "metadata": {},
   "outputs": [],
   "source": []
  }
 ],
 "metadata": {
  "kernelspec": {
   "display_name": "Python 3 (ipykernel)",
   "language": "python",
   "name": "python3"
  },
  "language_info": {
   "codemirror_mode": {
    "name": "ipython",
    "version": 3
   },
   "file_extension": ".py",
   "mimetype": "text/x-python",
   "name": "python",
   "nbconvert_exporter": "python",
   "pygments_lexer": "ipython3",
   "version": "3.7.11"
  }
 },
 "nbformat": 4,
 "nbformat_minor": 5
}
